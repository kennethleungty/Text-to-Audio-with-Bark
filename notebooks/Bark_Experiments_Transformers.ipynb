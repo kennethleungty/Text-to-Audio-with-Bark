{
 "cells": [
  {
   "cell_type": "markdown",
   "id": "f983e857-3460-40c9-8171-54df0c9ba9d6",
   "metadata": {},
   "source": [
    "# Bark Experiments \n",
    "### Using Transformers library\n",
    "\n",
    "**Author**: Kenneth Leung  \n",
    "**Last Updated**: 02 Oct 2023\n",
    "\n",
    "___"
   ]
  },
  {
   "cell_type": "markdown",
   "id": "a960fb89-fc11-4474-9c8b-98d06289f579",
   "metadata": {},
   "source": [
    "## Initial Setup"
   ]
  },
  {
   "cell_type": "code",
   "execution_count": null,
   "id": "9b4c1051-f9d7-41ec-90d7-bbefb17f1685",
   "metadata": {
    "scrolled": true
   },
   "outputs": [],
   "source": [
    "# Import dependencies\n",
    "from transformers import AutoProcessor, BarkModel\n",
    "from IPython.display import Audio\n",
    "import torch\n",
    "import scipy"
   ]
  },
  {
   "cell_type": "code",
   "execution_count": null,
   "id": "049db10c-4fb8-43b9-be1f-1ed7a28a3b01",
   "metadata": {},
   "outputs": [],
   "source": [
    "# Setup accelerator device (CUDA)\n",
    "device = torch.device(\"cuda\" if torch.cuda.is_available() else \"cpu\")\n",
    "print(f\"Using device: {device}\")"
   ]
  },
  {
   "cell_type": "code",
   "execution_count": null,
   "id": "c0c9e33c-5654-4a20-8e23-36a760a2fa9d",
   "metadata": {},
   "outputs": [],
   "source": [
    "# Define parameters - precision and model type\n",
    "torch_dtype = torch.float32 # Default \n",
    "model_type = \"suno/bark\"  # Default. Alternative model is \"suno/bark-small\""
   ]
  },
  {
   "cell_type": "code",
   "execution_count": null,
   "id": "f024b53e-9a59-4330-8819-986f007e7cdf",
   "metadata": {},
   "outputs": [],
   "source": [
    "# Instantiate processor and Bark model\n",
    "processor = AutoProcessor.from_pretrained(model_type, torch_dtype=torch_dtype)\n",
    "model = BarkModel.from_pretrained(model_type, torch_dtype=torch_dtype)"
   ]
  },
  {
   "cell_type": "code",
   "execution_count": null,
   "id": "fc1777a9-38a8-4983-88d0-8373fde23ec6",
   "metadata": {},
   "outputs": [],
   "source": [
    "# Shift model to accelerator device (CUDA)\n",
    "model = model.to(device)\n",
    "model.device"
   ]
  },
  {
   "cell_type": "code",
   "execution_count": null,
   "id": "e5caae37-0f8e-4a9b-9e69-7e0ac87bb449",
   "metadata": {},
   "outputs": [],
   "source": [
    "# View model architecture details\n",
    "model"
   ]
  },
  {
   "cell_type": "code",
   "execution_count": null,
   "id": "acd0197c-c931-47fe-befe-d7658a674b9c",
   "metadata": {},
   "outputs": [],
   "source": [
    "# Define voice preset (optional)\n",
    "voice_preset = \"v2/en_speaker_6\"\n",
    "\n",
    "# Define text prompt\n",
    "text_prompt = '''\n",
    "[clears throat] Is this the real life? Is this just fantasy? [laughs]\n",
    "Caught in a landslide, no escape from reality!\n",
    "'''"
   ]
  },
  {
   "cell_type": "markdown",
   "id": "a4643adc-d729-4311-92b6-8489545085db",
   "metadata": {},
   "source": [
    "___\n",
    "## Generate Audio Output"
   ]
  },
  {
   "cell_type": "code",
   "execution_count": null,
   "id": "2f0a4d2e-ba55-4d27-98df-0c52ed142882",
   "metadata": {},
   "outputs": [],
   "source": [
    "# Pass voice preset and text prompt into processor object\n",
    "inputs = processor(text=text_prompt, voice_preset=voice_preset)\n",
    "\n",
    "# View input audio tensors\n",
    "inputs"
   ]
  },
  {
   "cell_type": "code",
   "execution_count": null,
   "id": "a4340b7d-3498-43d7-9373-a96769ca6604",
   "metadata": {},
   "outputs": [],
   "source": [
    "# Generate output audio arrays (tensors) from Bark model\n",
    "audio_arrays = model.generate(**inputs.to(device))"
   ]
  },
  {
   "cell_type": "code",
   "execution_count": null,
   "id": "ad3eb083-aff5-4cae-838d-53a015512cdc",
   "metadata": {},
   "outputs": [],
   "source": [
    "# Convert output arrays into NumPy arrays, remove dimensions of size 1 from shape of array, and shift to CPU\n",
    "audio_arrays = audio_arrays.cpu().numpy().squeeze()"
   ]
  },
  {
   "cell_type": "code",
   "execution_count": null,
   "id": "9de2a434-b49c-425d-8f96-d72bb7601979",
   "metadata": {},
   "outputs": [],
   "source": [
    "# Set sampling rate (Default is 24kHz)\n",
    "sample_rate = model.generation_config.sample_rate"
   ]
  },
  {
   "cell_type": "code",
   "execution_count": null,
   "id": "6c1d96c6-0393-481c-8a3e-ef39634fe0c2",
   "metadata": {},
   "outputs": [],
   "source": [
    "# Convert audio output into sampled audio to be played in notebook widget\n",
    "Audio(audio_arrays, rate=sample_rate)"
   ]
  },
  {
   "cell_type": "code",
   "execution_count": null,
   "id": "0927b234-2905-4872-a522-c5348f9e9dcf",
   "metadata": {},
   "outputs": [],
   "source": [
    "# Download audio output as wav file\n",
    "# scipy.io.wavfile.write(\"bark_out.wav\", rate=sample_rate, data=audio_arrays)"
   ]
  },
  {
   "cell_type": "markdown",
   "id": "aed87539-4f7e-40ae-8c0c-75dd0e275259",
   "metadata": {},
   "source": [
    "___\n",
    "## Exploration of Bark's Capabilities with Prompt Engineering"
   ]
  },
  {
   "cell_type": "code",
   "execution_count": null,
   "id": "96f729ef-241d-4b75-bd07-024f037dfaab",
   "metadata": {},
   "outputs": [],
   "source": [
    "# Create function to generate audio array\n",
    "def generate_audio(text_prompt, voice_preset=None):\n",
    "    inputs = processor(text=text_prompt, voice_preset=voice_preset)\n",
    "    audio_arrays = model.generate(**inputs.to(device)).cpu().numpy().squeeze()\n",
    "    return audio_arrays"
   ]
  },
  {
   "cell_type": "markdown",
   "id": "43a1b407-978b-4955-a18b-6a2eb26a7fcd",
   "metadata": {},
   "source": [
    "### (1) Multilingual Speech Synthesis"
   ]
  },
  {
   "cell_type": "markdown",
   "id": "5618ae7b-a3d8-445d-8e44-75b1aa3d788a",
   "metadata": {},
   "source": [
    "#### (1.1) Mandarin"
   ]
  },
  {
   "cell_type": "code",
   "execution_count": null,
   "id": "070bad5e-c441-4542-b733-32d8737203bc",
   "metadata": {},
   "outputs": [],
   "source": [
    "text_prompt = '千里之行，始于足下。所以，不要害怕迈出第一步'\n",
    "\n",
    "audio_arrays = generate_audio(text_prompt)\n",
    "Audio(audio_arrays, rate=model.generation_config.sample_rate)"
   ]
  },
  {
   "cell_type": "code",
   "execution_count": null,
   "id": "9133c300-ceeb-4b91-b4af-0d10f670abf2",
   "metadata": {},
   "outputs": [],
   "source": [
    "text_prompt = '千里之行，始于足下。所以，不要害怕迈出第一步'\n",
    "\n",
    "audio_arrays = generate_audio(text_prompt)\n",
    "Audio(audio_arrays, rate=model.generation_config.sample_rate)"
   ]
  },
  {
   "cell_type": "markdown",
   "id": "3f09519d-acf3-4d0e-bbed-c6158f2733d0",
   "metadata": {},
   "source": [
    "#### (1.2) Hindi"
   ]
  },
  {
   "cell_type": "code",
   "execution_count": null,
   "id": "af11e571-fa5f-4c6f-b8d1-33371b742d35",
   "metadata": {},
   "outputs": [],
   "source": [
    "text_prompt = 'धैर्य और समय, दोनों ही बहुत महत्वपूर्ण हैं। जब तुम अपने लक्ष्य की ओर बढ़ रहे हो, तो इन दोनों की आवश्यकता होती है। धैर्य रखो और समय दो, सफलता जरूर मिलेगी।'\n",
    "\n",
    "audio_arrays = generate_audio(text_prompt)\n",
    "Audio(audio_arrays, rate=model.generation_config.sample_rate)"
   ]
  },
  {
   "cell_type": "markdown",
   "id": "cfff173d-3af0-4d4d-9af4-c252cfa1bc90",
   "metadata": {},
   "source": [
    "___\n",
    "### (2) Code Switching"
   ]
  },
  {
   "cell_type": "markdown",
   "id": "7db0fd5b-ffa5-48c8-a874-9089f148e7f9",
   "metadata": {},
   "source": [
    "#### (2.1) French - English"
   ]
  },
  {
   "cell_type": "code",
   "execution_count": null,
   "id": "fc07a251-f23c-4ae7-b319-a3ec66c85fc5",
   "metadata": {},
   "outputs": [],
   "source": [
    "text_prompt = '''\n",
    "Mon père me disait toujours: \n",
    "\"The best way to predict the future is to create it.\"\n",
    "'''\n",
    "\n",
    "audio_arrays = generate_audio(text_prompt)\n",
    "Audio(audio_arrays, rate=model.generation_config.sample_rate)"
   ]
  },
  {
   "cell_type": "markdown",
   "id": "aaaaaa82-8062-4f67-b598-dc038f81c0ee",
   "metadata": {},
   "source": [
    "___\n",
    "### (3) Non-Verbal Effects"
   ]
  },
  {
   "cell_type": "markdown",
   "id": "2549a555-3c51-4b98-a49e-30196c1a9085",
   "metadata": {},
   "source": [
    "#### Mix of non-verbal effects"
   ]
  },
  {
   "cell_type": "code",
   "execution_count": null,
   "id": "ef6b4b99-060d-4670-a6c5-ffef15487968",
   "metadata": {},
   "outputs": [],
   "source": [
    "text_prompt = '''\n",
    "Remember when we tried cooking that 5-minute recipe, but it took us THREE HOURS? [laughs]\n",
    "And the kitchen looked like ... a war zone afterwards! [sighs]\n",
    "'''\n",
    "\n",
    "audio_arrays = generate_audio(text_prompt)\n",
    "Audio(audio_arrays, rate=model.generation_config.sample_rate)"
   ]
  },
  {
   "cell_type": "markdown",
   "id": "c04cd1cf-2401-47ee-bb03-74e70dc804f5",
   "metadata": {},
   "source": [
    "#### Speaker Prompts\n",
    "(Does not consistently give the correct output)"
   ]
  },
  {
   "cell_type": "code",
   "execution_count": null,
   "id": "ad4e9ae3-f357-4fdf-a2dc-1016be667eff",
   "metadata": {},
   "outputs": [],
   "source": [
    "text_prompt = '''\n",
    "WOMAN: I would like an oatmilk latte please.\n",
    "MAN: Wow, that's expensive!\n",
    "'''\n",
    "\n",
    "audio_arrays = generate_audio(text_prompt)\n",
    "Audio(audio_arrays, rate=model.generation_config.sample_rate)"
   ]
  },
  {
   "cell_type": "markdown",
   "id": "a0d0da5e-b082-4cbb-99aa-5188dbe3798d",
   "metadata": {},
   "source": [
    "___\n",
    "### (4) Music"
   ]
  },
  {
   "cell_type": "code",
   "execution_count": null,
   "id": "cd4af536-c150-42e9-8618-3746e35807e1",
   "metadata": {},
   "outputs": [],
   "source": [
    "text_prompt = '♪ I want to break free! I want to break FREE!!  ♪'\n",
    "\n",
    "audio_arrays = generate_audio(text_prompt)\n",
    "Audio(audio_arrays, rate=model.generation_config.sample_rate)"
   ]
  },
  {
   "cell_type": "markdown",
   "id": "448c0b4e-029b-4c1c-a0de-fa3c02a8535e",
   "metadata": {},
   "source": [
    "___"
   ]
  }
 ],
 "metadata": {
  "kernelspec": {
   "display_name": "bark_env",
   "language": "python",
   "name": "venv"
  },
  "language_info": {
   "codemirror_mode": {
    "name": "ipython",
    "version": 3
   },
   "file_extension": ".py",
   "mimetype": "text/x-python",
   "name": "python",
   "nbconvert_exporter": "python",
   "pygments_lexer": "ipython3",
   "version": "3.11.5"
  }
 },
 "nbformat": 4,
 "nbformat_minor": 5
}
